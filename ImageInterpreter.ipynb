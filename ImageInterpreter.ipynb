{
  "cells": [
    {
      "cell_type": "code",
      "execution_count": null,
      "metadata": {
        "colab": {
          "base_uri": "https://localhost:8080/"
        },
        "id": "IyoSWH2PldN0",
        "outputId": "d687b862-2233-438d-8b8e-ae51817963fd"
      },
      "outputs": [
        {
          "name": "stdout",
          "output_type": "stream",
          "text": [
            "Collecting easyocr\n",
            "  Downloading easyocr-1.7.0-py3-none-any.whl (2.9 MB)\n",
            "\u001b[2K     \u001b[90m━━━━━━━━━━━━━━━━━━━━━━━━━━━━━━━━━━━━━━━━\u001b[0m \u001b[32m2.9/2.9 MB\u001b[0m \u001b[31m53.6 MB/s\u001b[0m eta \u001b[36m0:00:00\u001b[0m\n",
            "\u001b[?25hRequirement already satisfied: torch in /usr/local/lib/python3.10/dist-packages (from easyocr) (2.0.1+cu118)\n",
            "Requirement already satisfied: torchvision>=0.5 in /usr/local/lib/python3.10/dist-packages (from easyocr) (0.15.2+cu118)\n",
            "Requirement already satisfied: opencv-python-headless in /usr/local/lib/python3.10/dist-packages (from easyocr) (4.8.0.76)\n",
            "Requirement already satisfied: scipy in /usr/local/lib/python3.10/dist-packages (from easyocr) (1.10.1)\n",
            "Requirement already satisfied: numpy in /usr/local/lib/python3.10/dist-packages (from easyocr) (1.23.5)\n",
            "Requirement already satisfied: Pillow in /usr/local/lib/python3.10/dist-packages (from easyocr) (9.4.0)\n",
            "Requirement already satisfied: scikit-image in /usr/local/lib/python3.10/dist-packages (from easyocr) (0.19.3)\n",
            "Collecting python-bidi (from easyocr)\n",
            "  Downloading python_bidi-0.4.2-py2.py3-none-any.whl (30 kB)\n",
            "Requirement already satisfied: PyYAML in /usr/local/lib/python3.10/dist-packages (from easyocr) (6.0.1)\n",
            "Requirement already satisfied: Shapely in /usr/local/lib/python3.10/dist-packages (from easyocr) (2.0.1)\n",
            "Collecting pyclipper (from easyocr)\n",
            "  Downloading pyclipper-1.3.0.post4-cp310-cp310-manylinux_2_12_x86_64.manylinux2010_x86_64.whl (813 kB)\n",
            "\u001b[2K     \u001b[90m━━━━━━━━━━━━━━━━━━━━━━━━━━━━━━━━━━━━━━\u001b[0m \u001b[32m813.9/813.9 kB\u001b[0m \u001b[31m56.3 MB/s\u001b[0m eta \u001b[36m0:00:00\u001b[0m\n",
            "\u001b[?25hCollecting ninja (from easyocr)\n",
            "  Downloading ninja-1.11.1-py2.py3-none-manylinux_2_12_x86_64.manylinux2010_x86_64.whl (145 kB)\n",
            "\u001b[2K     \u001b[90m━━━━━━━━━━━━━━━━━━━━━━━━━━━━━━━━━━━━━━\u001b[0m \u001b[32m146.0/146.0 kB\u001b[0m \u001b[31m15.2 MB/s\u001b[0m eta \u001b[36m0:00:00\u001b[0m\n",
            "\u001b[?25hRequirement already satisfied: requests in /usr/local/lib/python3.10/dist-packages (from torchvision>=0.5->easyocr) (2.31.0)\n",
            "Requirement already satisfied: filelock in /usr/local/lib/python3.10/dist-packages (from torch->easyocr) (3.12.2)\n",
            "Requirement already satisfied: typing-extensions in /usr/local/lib/python3.10/dist-packages (from torch->easyocr) (4.7.1)\n",
            "Requirement already satisfied: sympy in /usr/local/lib/python3.10/dist-packages (from torch->easyocr) (1.12)\n",
            "Requirement already satisfied: networkx in /usr/local/lib/python3.10/dist-packages (from torch->easyocr) (3.1)\n",
            "Requirement already satisfied: jinja2 in /usr/local/lib/python3.10/dist-packages (from torch->easyocr) (3.1.2)\n",
            "Requirement already satisfied: triton==2.0.0 in /usr/local/lib/python3.10/dist-packages (from torch->easyocr) (2.0.0)\n",
            "Requirement already satisfied: cmake in /usr/local/lib/python3.10/dist-packages (from triton==2.0.0->torch->easyocr) (3.27.2)\n",
            "Requirement already satisfied: lit in /usr/local/lib/python3.10/dist-packages (from triton==2.0.0->torch->easyocr) (16.0.6)\n",
            "Requirement already satisfied: six in /usr/local/lib/python3.10/dist-packages (from python-bidi->easyocr) (1.16.0)\n",
            "Requirement already satisfied: imageio>=2.4.1 in /usr/local/lib/python3.10/dist-packages (from scikit-image->easyocr) (2.31.1)\n",
            "Requirement already satisfied: tifffile>=2019.7.26 in /usr/local/lib/python3.10/dist-packages (from scikit-image->easyocr) (2023.8.12)\n",
            "Requirement already satisfied: PyWavelets>=1.1.1 in /usr/local/lib/python3.10/dist-packages (from scikit-image->easyocr) (1.4.1)\n",
            "Requirement already satisfied: packaging>=20.0 in /usr/local/lib/python3.10/dist-packages (from scikit-image->easyocr) (23.1)\n",
            "Requirement already satisfied: MarkupSafe>=2.0 in /usr/local/lib/python3.10/dist-packages (from jinja2->torch->easyocr) (2.1.3)\n",
            "Requirement already satisfied: charset-normalizer<4,>=2 in /usr/local/lib/python3.10/dist-packages (from requests->torchvision>=0.5->easyocr) (3.2.0)\n",
            "Requirement already satisfied: idna<4,>=2.5 in /usr/local/lib/python3.10/dist-packages (from requests->torchvision>=0.5->easyocr) (3.4)\n",
            "Requirement already satisfied: urllib3<3,>=1.21.1 in /usr/local/lib/python3.10/dist-packages (from requests->torchvision>=0.5->easyocr) (2.0.4)\n",
            "Requirement already satisfied: certifi>=2017.4.17 in /usr/local/lib/python3.10/dist-packages (from requests->torchvision>=0.5->easyocr) (2023.7.22)\n",
            "Requirement already satisfied: mpmath>=0.19 in /usr/local/lib/python3.10/dist-packages (from sympy->torch->easyocr) (1.3.0)\n",
            "Installing collected packages: pyclipper, ninja, python-bidi, easyocr\n",
            "Successfully installed easyocr-1.7.0 ninja-1.11.1 pyclipper-1.3.0.post4 python-bidi-0.4.2\n"
          ]
        }
      ],
      "source": [
        "pip install easyocr"
      ]
    },
    {
      "cell_type": "code",
      "execution_count": null,
      "metadata": {
        "id": "37NWvw2-mmlp"
      },
      "outputs": [],
      "source": [
        "import pandas as pd"
      ]
    },
    {
      "cell_type": "code",
      "execution_count": null,
      "metadata": {
        "colab": {
          "base_uri": "https://localhost:8080/"
        },
        "id": "iK_AmDx4ljp4",
        "outputId": "f3d8d912-c67d-4e40-aebc-8ae1bc42f924"
      },
      "outputs": [
        {
          "name": "stderr",
          "output_type": "stream",
          "text": [
            "WARNING:easyocr.easyocr:Neither CUDA nor MPS are available - defaulting to CPU. Note: This module is much faster with a GPU.\n"
          ]
        },
        {
          "name": "stdout",
          "output_type": "stream",
          "text": [
            "d7336722-86d4-4e9e-8b34-b3ade956ee83.png\n",
            "['поклон', 'роду', '23', 'мая', '10-39', 'поклон', 'роду', '', '', 'почему', 'выбрала', 'такое', 'название', 'блогу?', 'оплата', 'доставка', 'возврат', 'благодарна', 'своему', 'роду:', 'каждый', 'моем', 'роду', 'важен', 'хочу', 'знать', 'каждом:', 'и', 'кахдому', 'поклониться', 'за', 'его', 'вклад', 'мою', 'хизнь', 'меня', 'зовут', 'наталья', 'hа', 'этой', 'странице', 'рассказываю', 'зачем', '=', 'создаю', 'историю', 'своей', 'семьи', 'и', 'как', 'я', 'это', 'д', 'ещё', '8', 'лучшим', 'проявлением', 'такого', 'поклона', 'считаю', 'должна', 'быть', 'показать', 'ещё', 'подробная', 'информация', 'загрузить', 'фотографию', 'добавить', 'историю', 'подписан', 'друг', 'олеся', 'подписчики']\n",
            "\n",
            "None\n",
            "----\n"
          ]
        }
      ],
      "source": [
        "import easyocr\n",
        "import os\n",
        "\n",
        "arr = []\n",
        "reader = easyocr.Reader(['ru', 'en'])\n",
        "directory = 'sample_data/vk' # Наша директория картинок\n",
        "\n",
        "similar_words = {\"подписчики\": [\"подписчики\"]}\n",
        "\n",
        "for filename in os.listdir(directory)[:1]:\n",
        "    f = os.path.join(directory, filename)\n",
        "    ''' 'beadd846-69b7-4ade-83d9-dbd850982a6d.png') '''\n",
        "    print(filename)\n",
        "    if os.path.isfile(f):\n",
        "        text = reader.readtext(f, detail=0, paragraph=True)\n",
        "        stri = \" \".join(text).lower()\n",
        "        arr.append(stri)\n",
        "        words_in_str = stri.split(\" \")\n",
        "        print(words_in_str)\n",
        "        required = similar_words[\"подписчики\"][0]\n",
        "        min_dist = 9999999\n",
        "        id_ok_word = 0\n",
        "        for i in range(len(words_in_str)):\n",
        "            word = words_in_str[i]\n",
        "            dist = levenstein(word, required)\n",
        "            if dist < min_dist:\n",
        "                id_ok_word = i\n",
        "                min_dist = dist\n",
        "\n",
        "        value = None\n",
        "        dist_right = 0\n",
        "        for k in range(id_ok_word, len(words_in_str)):\n",
        "            cur_word = words_in_str[k]\n",
        "            if cur_word.isdigit() and int(cur_word) != 1:\n",
        "                value = cur_word\n",
        "                break\n",
        "            dist_right += 1\n",
        "        '''\n",
        "        dist_left = 0\n",
        "        for k in range(id_ok_word, 0, -1):\n",
        "            cur_word = words_in_str[k]\n",
        "            if cur_word.isdigit():\n",
        "                if dist_left < dist_right:\n",
        "                    value = cur_word\n",
        "                    break\n",
        "            dist_left += 1\n",
        "        '''\n",
        "        print()\n",
        "        print(value)\n",
        "        print(\"----\")\n"
      ]
    },
    {
      "cell_type": "code",
      "execution_count": null,
      "metadata": {
        "colab": {
          "base_uri": "https://localhost:8080/"
        },
        "id": "Dpqh9OUYRAb-",
        "outputId": "7c2856a4-de54-4cee-be38-74f44237a07e"
      },
      "outputs": [
        {
          "name": "stdout",
          "output_type": "stream",
          "text": [
            "Collecting pytesseract\n",
            "  Downloading pytesseract-0.3.10-py3-none-any.whl (14 kB)\n",
            "Requirement already satisfied: packaging>=21.3 in /usr/local/lib/python3.10/dist-packages (from pytesseract) (23.1)\n",
            "Requirement already satisfied: Pillow>=8.0.0 in /usr/local/lib/python3.10/dist-packages (from pytesseract) (9.4.0)\n",
            "Installing collected packages: pytesseract\n",
            "Successfully installed pytesseract-0.3.10\n",
            "Requirement already satisfied: numpy in /usr/local/lib/python3.10/dist-packages (1.23.5)\n",
            "Requirement already satisfied: matplotlib in /usr/local/lib/python3.10/dist-packages (3.7.1)\n",
            "Requirement already satisfied: opencv-python in /usr/local/lib/python3.10/dist-packages (4.8.0.76)\n",
            "Requirement already satisfied: pillow in /usr/local/lib/python3.10/dist-packages (9.4.0)\n",
            "Requirement already satisfied: contourpy>=1.0.1 in /usr/local/lib/python3.10/dist-packages (from matplotlib) (1.1.0)\n",
            "Requirement already satisfied: cycler>=0.10 in /usr/local/lib/python3.10/dist-packages (from matplotlib) (0.11.0)\n",
            "Requirement already satisfied: fonttools>=4.22.0 in /usr/local/lib/python3.10/dist-packages (from matplotlib) (4.42.1)\n",
            "Requirement already satisfied: kiwisolver>=1.0.1 in /usr/local/lib/python3.10/dist-packages (from matplotlib) (1.4.4)\n",
            "Requirement already satisfied: packaging>=20.0 in /usr/local/lib/python3.10/dist-packages (from matplotlib) (23.1)\n",
            "Requirement already satisfied: pyparsing>=2.3.1 in /usr/local/lib/python3.10/dist-packages (from matplotlib) (3.1.1)\n",
            "Requirement already satisfied: python-dateutil>=2.7 in /usr/local/lib/python3.10/dist-packages (from matplotlib) (2.8.2)\n",
            "Requirement already satisfied: six>=1.5 in /usr/local/lib/python3.10/dist-packages (from python-dateutil>=2.7->matplotlib) (1.16.0)\n",
            "Reading package lists... Done\n",
            "Building dependency tree... Done\n",
            "Reading state information... Done\n",
            "The following additional packages will be installed:\n",
            "  tesseract-ocr-eng tesseract-ocr-osd\n",
            "The following NEW packages will be installed:\n",
            "  tesseract-ocr tesseract-ocr-eng tesseract-ocr-osd\n",
            "0 upgraded, 3 newly installed, 0 to remove and 16 not upgraded.\n",
            "Need to get 4,816 kB of archives.\n",
            "After this operation, 15.6 MB of additional disk space will be used.\n",
            "Get:1 http://archive.ubuntu.com/ubuntu jammy/universe amd64 tesseract-ocr-eng all 1:4.00~git30-7274cfa-1.1 [1,591 kB]\n",
            "Get:2 http://archive.ubuntu.com/ubuntu jammy/universe amd64 tesseract-ocr-osd all 1:4.00~git30-7274cfa-1.1 [2,990 kB]\n",
            "Get:3 http://archive.ubuntu.com/ubuntu jammy/universe amd64 tesseract-ocr amd64 4.1.1-2.1build1 [236 kB]\n",
            "Fetched 4,816 kB in 1s (5,106 kB/s)\n",
            "debconf: unable to initialize frontend: Dialog\n",
            "debconf: (No usable dialog-like program is installed, so the dialog based frontend cannot be used. at /usr/share/perl5/Debconf/FrontEnd/Dialog.pm line 78, <> line 3.)\n",
            "debconf: falling back to frontend: Readline\n",
            "debconf: unable to initialize frontend: Readline\n",
            "debconf: (This frontend requires a controlling tty.)\n",
            "debconf: falling back to frontend: Teletype\n",
            "dpkg-preconfigure: unable to re-open stdin: \n",
            "Selecting previously unselected package tesseract-ocr-eng.\n",
            "(Reading database ... 120831 files and directories currently installed.)\n",
            "Preparing to unpack .../tesseract-ocr-eng_1%3a4.00~git30-7274cfa-1.1_all.deb ...\n",
            "Unpacking tesseract-ocr-eng (1:4.00~git30-7274cfa-1.1) ...\n",
            "Selecting previously unselected package tesseract-ocr-osd.\n",
            "Preparing to unpack .../tesseract-ocr-osd_1%3a4.00~git30-7274cfa-1.1_all.deb ...\n",
            "Unpacking tesseract-ocr-osd (1:4.00~git30-7274cfa-1.1) ...\n",
            "Selecting previously unselected package tesseract-ocr.\n",
            "Preparing to unpack .../tesseract-ocr_4.1.1-2.1build1_amd64.deb ...\n",
            "Unpacking tesseract-ocr (4.1.1-2.1build1) ...\n",
            "Setting up tesseract-ocr-eng (1:4.00~git30-7274cfa-1.1) ...\n",
            "Setting up tesseract-ocr-osd (1:4.00~git30-7274cfa-1.1) ...\n",
            "Setting up tesseract-ocr (4.1.1-2.1build1) ...\n",
            "Processing triggers for man-db (2.10.2-1) ...\n"
          ]
        }
      ],
      "source": [
        "!pip3 install pytesseract\n",
        "!pip3 install numpy matplotlib opencv-python pillow\n",
        "!sudo apt install tesseract-ocr"
      ]
    },
    {
      "cell_type": "code",
      "execution_count": null,
      "metadata": {
        "colab": {
          "base_uri": "https://localhost:8080/"
        },
        "id": "Er-Sjr-AR2RN",
        "outputId": "19a69111-ae44-4229-8ef7-6cfad9d183d5"
      },
      "outputs": [
        {
          "name": "stdout",
          "output_type": "stream",
          "text": [
            ".ipynb_checkpoints\n",
            "fe8bb4b4-ad96-488e-985b-7a4e9a34fca3.jpeg\n",
            ". =>\n",
            "10:01РМ Ср 31 мая eco STIS)\n",
            "@ tgstat.ru\n",
            "Я] теб Быстрый поис =\n",
            "88 Katanor ~ @ Petty v | Аналитика © Поиск по публикациям & Мониторинг Теедгат < Продвижение *\n",
            "= Босс Рыжеволос ® coy nau vamana\n",
            "le — Россия, Русский\n",
            "C @accotinka _)\n",
            "и» Категория\n",
            "oe разование\n",
            "US ъ ca\n",
            "© Босс-вумен следит за языковой академией @\n",
            "прокачаете Инглиш #еазуботизу\n",
            "поймаете дзен на путешествия #worldunfold\n",
            "узнаете, как легко учить языки Язапискиметодиста\n",
            "@ чем _от_босса\n",
            "Ha ceasu: https://t.me/acOOlinka\n",
            "Axagemua - www.myroyal.ru\n",
            "© Сводная | подписчики ПОДПИскиЮТписки\n",
            "185 +3 АА ЧАСА\n",
            "А Подписчики =\n",
            "о сегодня +3 подписки\n",
            "@ Индекс цитирования ее. |\n",
            "& Цитирование\n",
            "© Охваты публикаций 0 9 © ИНДЕКС ЦИТИРОВАНИЯ 331 СРЕДНИЙ ОХВАТ\n",
            "$ Вовлеченность подписчик. 2 уп каналов\n",
            "se 178.9% ERR\n",
            "2 упоминаний\n",
            "Ш Анализ просмотров 23 репостов 0% ЕВВа4\n",
            "< Эффективность рекламы\n",
            "© СРЕДНИЙ РЕКЛАМНЫЙ\n",
            "^^ Привлечение подписчико!\n",
            "ривлечение подлисчинов 0 OXBAT 1 ПУБЛИКАЦИИ 1 год 3 месяца\n",
            "@ Пригласительные ссылки в 26.02.2022 21.04.2023\n",
            "а канал создан добавлен в Тб\n",
            "и а тобраанйя\n",
            "© Топ публикаций\n",
            "№ График публикаций 247 всего 179%\n",
            "ee посты канала ®\n",
            "59 — занеделю\n",
            "197 за месяц\n",
            "МАМАМ © BOBnEYERHOCTS ROBTMCSIKOB ERR\n",
            "9.98% © вовлеченность © пол подписчиков\n",
            ". о ПОДПИСЧИКОВ (ЕВ)\n",
            "15.6% 84.4%\n",
            "2 пересылки ужчи! к Ц\n",
            "4 комментарии\n",
            "\f\n"
          ]
        }
      ],
      "source": [
        "import pytesseract\n",
        "import cv2\n",
        "import matplotlib.pyplot as plt\n",
        "from PIL import Image, ImageEnhance\n",
        "import os\n",
        "\n",
        "directory = 'sample_data/datasets'\n",
        "custom_config = r'-l rus+eng --psm 6'\n",
        "for filename in os.listdir(directory)[:2]:\n",
        "    f = os.path.join(directory, filename)\n",
        "    print(filename)\n",
        "    if os.path.isfile(f):\n",
        "      image = cv2.imread(f)\n",
        "      string = pytesseract.image_to_string(image, config=custom_config)\n",
        "      print(string)\n"
      ]
    },
    {
      "cell_type": "code",
      "execution_count": null,
      "metadata": {
        "id": "m7EYSUzEpg38"
      },
      "outputs": [],
      "source": [
        "def histeq(im, nbr_bins=256):\n",
        "    \"\"\" Выравнивание гисгограммы полутонового изображения. \"\"\"\n",
        "    # получить гистограмму изображения\n",
        "    imhist, bins = histogram (im.flatten(), nbr_bins, normed=True)\n",
        "    cdf = imhist.cumsum() # функция распределения\n",
        "    cdf = 255 * cdf / cdf[-1] # нормировать\n",
        "    # использовать линейную интерполяцию сб для нахождения\n",
        "    # значений новых пикселей\n",
        "    im2 = interp(im.flatten(), bins[:-1], cdf)\n",
        "    return im2.reshape(im.shape), cdf"
      ]
    },
    {
      "cell_type": "code",
      "execution_count": null,
      "metadata": {
        "colab": {
          "base_uri": "https://localhost:8080/"
        },
        "id": "5g8sc-Oy5XcP",
        "outputId": "28ed979e-39fc-4c19-c93b-45f37ca3edb7"
      },
      "outputs": [
        {
          "name": "stdout",
          "output_type": "stream",
          "text": [
            "Reading package lists... Done\n",
            "Building dependency tree... Done\n",
            "Reading state information... Done\n",
            "The following NEW packages will be installed:\n",
            "  tesseract-ocr-rus\n",
            "0 upgraded, 1 newly installed, 0 to remove and 16 not upgraded.\n",
            "Need to get 1,271 kB of archives.\n",
            "After this operation, 3,877 kB of additional disk space will be used.\n",
            "Get:1 http://archive.ubuntu.com/ubuntu jammy/universe amd64 tesseract-ocr-rus all 1:4.00~git30-7274cfa-1.1 [1,271 kB]\n",
            "Fetched 1,271 kB in 1s (1,820 kB/s)\n",
            "debconf: unable to initialize frontend: Dialog\n",
            "debconf: (No usable dialog-like program is installed, so the dialog based frontend cannot be used. at /usr/share/perl5/Debconf/FrontEnd/Dialog.pm line 78, <> line 1.)\n",
            "debconf: falling back to frontend: Readline\n",
            "debconf: unable to initialize frontend: Readline\n",
            "debconf: (This frontend requires a controlling tty.)\n",
            "debconf: falling back to frontend: Teletype\n",
            "dpkg-preconfigure: unable to re-open stdin: \n",
            "Selecting previously unselected package tesseract-ocr-rus.\n",
            "(Reading database ... 120878 files and directories currently installed.)\n",
            "Preparing to unpack .../tesseract-ocr-rus_1%3a4.00~git30-7274cfa-1.1_all.deb ...\n",
            "Unpacking tesseract-ocr-rus (1:4.00~git30-7274cfa-1.1) ...\n",
            "Setting up tesseract-ocr-rus (1:4.00~git30-7274cfa-1.1) ...\n"
          ]
        }
      ],
      "source": [
        "!sudo apt-get install tesseract-ocr-rus"
      ]
    },
    {
      "cell_type": "code",
      "execution_count": null,
      "metadata": {
        "colab": {
          "base_uri": "https://localhost:8080/"
        },
        "id": "hHTf5AegoaXE",
        "outputId": "5e094f91-ad6d-4a83-8b32-95f706fc30d2"
      },
      "outputs": [
        {
          "name": "stdout",
          "output_type": "stream",
          "text": [
            "0ac1d316-523f-4a67-8cb5-317ec4d4f41f.jpg\n",
            ". к а ‘эътасгыуисвалае/@ре ы адод_апп/5аЕ — =. и. о и НЕ о РЫШ НН . й НЫ АВ. а — 8 в _ Ш\n",
            "Е ЕЕ>>= === = = = — : и, НЫ АН | — = ее м1 = _\n",
            "\n",
            "к ЕЕ ан. И А ны И Е = —— = и\n",
            "\n",
            "=== Е а : ] п НН ——шШДММ [п _ —м==&=!шщ___\n",
            "\n",
            "зы Каталог = $4 Рейтинги = Ё Анапитика 3% Поиск по публикациины = © Мониторинг ТЕ огат == 9 Продвижение = — р о\n",
            "\f\n",
            "0a0ba31d-baeb-4095-9835-b0801b995c0a.jpg\n",
            "= г\n",
            "УЖО) ТИ\n",
            "Ве ел\n",
            "\n",
            "т х .\n",
            "г Ж\n",
            "#^ р РгоНалоги $\n",
            "| 1 Сожаь» )\n",
            "ь р\n",
            "У\n",
            "© сеная | 15 подписчики\n",
            "А Подписчики +9 за месяц\n",
            "Ф инленс цитирования\n",
            "© цитирование\n",
            "коать публикаций подлискиюттиски\n",
            "Фо о ААС\n",
            "< вовлеченность полис соли\n",
            "Ы нолис просмотров\n",
            "© пекла через Яндекс\n",
            "о индекс цитивования\n",
            "эффективность рекламы 0.0\n",
            "_^/ Привлечение подписчи. 3 уп. каналов\n",
            "О упоминаний\n",
            "? Пригласительные ссылки 8 репостов\n",
            "= внешний прабик\n",
            "<еЕнийоват\n",
            "© тобой 21 а пУлИкАИИ\n",
            "© раик публикаций 140% ЕБВ\n",
            "0% Ева\n",
            "© СРЕДНИЙ РЕКЛАНЫЙ\n",
            "ооакт 1 пувлИкАЦИИ\n",
            "1 месяц 24 дня\n",
            "08.04.2023 15.04.2023\n",
            "анал создан обавлен отек\n",
            "ВОЗРАСТ КАНАЛА\n",
            "пувликАцИИ\n",
            "40 всего\n",
            "© неа\n",
            "20 замести\n",
            "И И\n",
            "140%\n",
            "вовлеченность подлисчиков вая)\n",
            "о. о вовльенность\n",
            "16.42% Подписчиков Ев)\n",
            "\f\n"
          ]
        }
      ],
      "source": [
        "import pytesseract\n",
        "import cv2\n",
        "import matplotlib.pyplot as plt\n",
        "from PIL import Image, ImageEnhance, ImageFile\n",
        "from pylab import *\n",
        "from numpy import *\n",
        "import os\n",
        "from PIL import ImageOps\n",
        "ImageFile.LOAD_TRUNCATED_IMAGES = True\n",
        "directory = 'sample_data/datasets'\n",
        "custom_config = r'-l rus --psm 6'\n",
        "for filename in os.listdir(directory)[:2]:\n",
        "    f = os.path.join(directory, filename)\n",
        "    print(filename)\n",
        "    if os.path.isfile(f):\n",
        "      image = Image.open(f)\n",
        "      image = ImageOps.grayscale(image)\n",
        "      image = ImageOps.colorize(image, black='#000000', white='#ffffff')\n",
        "      enhancer = ImageEnhance.Contrast(image)\n",
        "      factor = 2\n",
        "      image = enhancer.enhance(factor)\n",
        "      string = pytesseract.image_to_string(image, config=custom_config)\n",
        "      print(string)\n"
      ]
    },
    {
      "cell_type": "code",
      "execution_count": null,
      "metadata": {
        "id": "S7rGN_Z760g4"
      },
      "outputs": [],
      "source": []
    },
    {
      "cell_type": "code",
      "execution_count": null,
      "metadata": {
        "colab": {
          "base_uri": "https://localhost:8080/"
        },
        "id": "KaSGP1MgaGdW",
        "outputId": "9c054e8f-3bb5-4abd-d125-33e4bd8a9611"
      },
      "outputs": [
        {
          "name": "stdout",
          "output_type": "stream",
          "text": [
            "List of available languages (4):\n",
            "deu\n",
            "eng\n",
            "osd\n",
            "rus\n"
          ]
        }
      ],
      "source": [
        "!tesseract --list-langs"
      ]
    },
    {
      "cell_type": "code",
      "execution_count": 2,
      "metadata": {
        "id": "IwJFL4G6v_ko"
      },
      "outputs": [],
      "source": [
        "def levenstein(str_1, str_2):\n",
        "    n, m = len(str_1), len(str_2)\n",
        "    if n > m:\n",
        "        str_1, str_2 = str_2, str_1\n",
        "        n, m = m, n\n",
        "\n",
        "    current_row = range(n + 1)\n",
        "    for i in range(1, m + 1):\n",
        "        previous_row, current_row = current_row, [i] + [0] * n\n",
        "        for j in range(1, n + 1):\n",
        "            add, delete, change = previous_row[j] + 1, current_row[j - 1] + 1, previous_row[j - 1]\n",
        "            if str_1[j - 1] != str_2[i - 1]:\n",
        "                change += 1\n",
        "            current_row[j] = min(add, delete, change)\n",
        "\n",
        "    return current_row[n]"
      ]
    },
    {
      "cell_type": "code",
      "execution_count": null,
      "metadata": {
        "colab": {
          "base_uri": "https://localhost:8080/"
        },
        "id": "HwFI1axtwMQQ",
        "outputId": "9d6be3e2-fa47-4f8b-8ebe-390f72485bd4"
      },
      "outputs": [
        {
          "name": "stdout",
          "output_type": "stream",
          "text": [
            "0                                                    ПОДПИСЧИКИ 24 сегодня за неделю за месяц ИНДЕКС ЦИТИРОВАНИЯ 0.0 уп: каналов упоминаний репостов СРЕДНИЙ OХBАТ 1 ПУБЛИКАЦИИ 25 104.2% ERR 0% ERR24 1 месяц 12 дней 19.04.2023 канал создан 29.04.2023 добавлен в TGStat БОЗРАСТ КАНАЛА ПУБЛИКАЦИИ 216 всего вчера 32 за неделю 145 за месяц 105% подписчиков чИТают ПоСТЫ канала ВОВЛЕЧЕННОСТЬ ПОДПИСЧИКОВ {ERR} ВОВЛЕЧЕННОСТЬ ПОДПИСЧИКОВ {ERI 49.08% пересылки 10 комментарии реакции\n",
            "1    Систе Онла Блог Главн Финп SMM Korop Аpтер Apтeг Вален Мыск https //pro livedune com kpi /index/2023/5 LIVEDUNE Тариф закончится 03.12.2023 Продлите, нтобн н₽ прТРаПТЬ Данныв Оплатить сейчас Помощь 88 Дашборд Ключевые показатели эффективности июнъ 2027 Квартал 2023 Изменить период KPI Подписчиков 101 Цель Постав Цель Сравнение vimmarketing @vimmarketing Просмотров 1,085 Цель Цель Мониторинг 2.53 Подробнее Камментарии Директ Автопастинг 1545 (@ $ РУС 04.06-2023 Поиск\n",
            "dtype: object\n"
          ]
        }
      ],
      "source": [
        "im = array(Image.open('0a0ba31d-baeb-4095-9835-b0801b995c0a.jpg').convert('L'))\n",
        "\n",
        "\n",
        "\n",
        "\n"
      ]
    },
    {
      "cell_type": "code",
      "execution_count": null,
      "metadata": {
        "id": "4OQjI_OGwtbf"
      },
      "outputs": [],
      "source": [
        "pd.set_option('display.max_colwidth', None)"
      ]
    },
    {
      "cell_type": "code",
      "execution_count": null,
      "metadata": {
        "id": "yroKCJHvqK5R"
      },
      "outputs": [],
      "source": [
        "arr = []\n",
        "for i in range(len(arr)):\n",
        "  temp = arr[i].split(\" \")\n"
      ]
    },
    {
      "cell_type": "code",
      "execution_count": null,
      "metadata": {
        "id": "pzEPLfjFe1DI"
      },
      "outputs": [],
      "source": [
        "\n",
        "im = Image.open(\"/content/0a0ba31d-baeb-4095-9835-b0801b995c0a.jpg\")\n"
      ]
    },
    {
      "cell_type": "code",
      "execution_count": 3,
      "metadata": {
        "colab": {
          "base_uri": "https://localhost:8080/",
          "height": 1000
        },
        "id": "R9hLesol61oI",
        "outputId": "69c993f4-7f42-4c62-813c-cea891540009"
      },
      "outputs": [
        {
          "output_type": "stream",
          "name": "stdout",
          "text": [
            "05cee0c6-6291-4725-a582-13cec89627a0.jpg\n",
            "\n",
            "24\n",
            "----\n",
            "5c19969f-928b-45b4-ba2c-5d2197adc97d.jpg\n",
            "\n",
            "1085\n",
            "----\n",
            "254f0da8-d37c-4c41-9fc3-eac09baf64da.png\n",
            "\n",
            "35\n",
            "----\n",
            "b252dca3-eb58-4e2b-b67e-643729af9ea6.png\n",
            "\n",
            "202\n",
            "----\n",
            "eff02ea1-c6e4-4344-9662-690abe31b8ed.jpg\n",
            "\n",
            "152\n",
            "----\n",
            "898dc06c-adcc-446b-bbd6-d31d553f9b0b.png\n",
            "\n",
            "1\n",
            "----\n",
            "6e61b1ad-e836-4625-b84c-fa02e8f50ed0.jpg\n",
            "\n",
            "1\n",
            "----\n",
            "bb36bea5-f719-43fd-b089-55d83946de87.jpg\n",
            "\n",
            "172\n",
            "----\n",
            "7a4fb6a2-585c-4854-9cc3-072038d1aa6c.jpg\n",
            "\n",
            "0\n",
            "----\n",
            "3efc21fe-a8e0-4e58-85c7-59ea86704f28.png\n",
            "\n",
            "639\n",
            "----\n",
            "23f91cd6-4334-4141-a37e-f50dab048f0c.jpg\n",
            "\n",
            "2\n",
            "----\n",
            "926d1210-e352-44e5-942d-6b82266965e3.jpg\n"
          ]
        },
      ],
      "source": [
        "###################################\n",
        "import pytesseract\n",
        "import cv2\n",
        "import matplotlib.pyplot as plt\n",
        "from PIL import Image, ImageEnhance, ImageFile\n",
        "from pylab import *\n",
        "from numpy import *\n",
        "import os\n",
        "from PIL import ImageOps\n",
        "ImageFile.LOAD_TRUNCATED_IMAGES = True\n",
        "directory = 'sample_data/tg'\n",
        "custom_config = r'-l eng+rus --psm 6'\n",
        "\n",
        "search = \"подписчики\"\n",
        "\n",
        "if search == \"подписчики\":\n",
        "  custom_config = r'-l rus --psm 6'\n",
        "elif search == \"vr\":\n",
        "  custom_config = r'-l eng --psm 6'\n",
        "\n",
        "similar_words = {\"подписчики\": [\"подписчики\"], \"vr\": [\"vr\", \"err\"]}\n",
        "\n",
        "#ищем знак % поблизости\n",
        "def vr_ok(words_in_str, j):\n",
        "  if search != \"vr\":\n",
        "    return 2\n",
        "  if \"%\" in words_in_str[j]:\n",
        "    return 2\n",
        "  if (j > 0 and \"%\" in words_in_str[j-1]) or (j < (len(words_in_str)-1) and \"%\" in words_in_str[j+1]):\n",
        "    return 1\n",
        "  return 0\n",
        "\n",
        "\n",
        "for filename in os.listdir(directory)[0:20]:\n",
        "    format = filename.split(\".\")[1]\n",
        "    if format != \"jpg\" and format != \"png\" and format != \"jpeg\":\n",
        "      continue\n",
        "    f = os.path.join(directory, filename)\n",
        "    print(filename)\n",
        "    if os.path.isfile(f):\n",
        "      image = Image.open(f)\n",
        "\n",
        "      image = ImageOps.grayscale(image)\n",
        "      image = ImageOps.colorize(image, black='#000000', white='#ffffff')\n",
        "      enhancer = ImageEnhance.Contrast(image)\n",
        "      factor = 2\n",
        "      image = enhancer.enhance(factor)\n",
        "\n",
        "      string = pytesseract.image_to_string(image, config=custom_config)\n",
        "      string = string.replace( \"\\n\", \" \").lower()\n",
        "      words_in_str = string.split(\" \")\n",
        "      #print(words_in_str)\n",
        "      value = None\n",
        "      dista = 1e6\n",
        "      value_arr = []\n",
        "      for required in similar_words[search]:\n",
        "        min_dist = 1e6\n",
        "        id_ok_word = 0\n",
        "\n",
        "      #находим подпись характеристики\n",
        "        for i in range(len(words_in_str)):\n",
        "            word = words_in_str[i]\n",
        "            dist = levenstein(word, required)\n",
        "            if dist < min_dist:\n",
        "                id_ok_word = i\n",
        "                min_dist = dist\n",
        "\n",
        "        #print(words_in_str[id_ok_word])\n",
        "      #находим число\n",
        "        dist_count1 = 0\n",
        "        for k in range(id_ok_word, len(words_in_str)):\n",
        "            cur_word = words_in_str[k]\n",
        "            if  (search != \"vr\" and cur_word.replace(\",\", \"\").replace(\" \", \"\").isdigit() and dist_count1 < dista) or (search == \"vr\" and cur_word.replace(\".\", \"\").replace(\",\", \"\").replace(\" \", \"\").replace(\"%\", \"\").isdigit() and vr_ok(words_in_str, k) ):\n",
        "                dista = dist_count1\n",
        "                value = [cur_word, vr_ok(words_in_str, k)]\n",
        "                #print(cur_word, k)\n",
        "                break\n",
        "            dist_count1 += 1\n",
        "\n",
        "        dist_count2 = 0\n",
        "        for k in range(id_ok_word, -1, -1):\n",
        "            cur_word = words_in_str[k]\n",
        "            if  (search != \"vr\" and cur_word.replace(\",\", \"\").replace(\" \", \"\").isdigit() and dist_count2 <= dista) or (search == \"vr\" and cur_word.replace(\".\", \"\").replace(\",\", \"\").replace(\" \", \"\").replace(\"%\", \"\").isdigit() and (cur_word.count(\".\")+cur_word.count(\",\")) <= 1 and vr_ok(words_in_str, k) and dist_count2 < dist_count1):\n",
        "                dista = dist_count2\n",
        "                value = [cur_word, vr_ok(words_in_str, k)]\n",
        "                #print(cur_word, k, dista)\n",
        "                break\n",
        "            dist_count2 += 1\n",
        "\n",
        "        if value != None:\n",
        "          if search == \"vr\":\n",
        "            value_arr.append(float(value[0].replace(\",\", \"\").replace(\"%\", \"\")))\n",
        "          elif search == \"подписчики\":\n",
        "            value_arr.append(int(value[0].replace(\",\", \"\").replace(\"%\", \"\")))\n",
        "        #print(value_arr)\n",
        "\n",
        "      value = max(value_arr) if len(value_arr) > 0 else None\n",
        "      print()\n",
        "      print(value)\n",
        "      print(\"----\")\n",
        "\n",
        "\n"
      ]
    },
    {
      "cell_type": "code",
      "execution_count": null,
      "metadata": {
        "colab": {
          "base_uri": "https://localhost:8080/"
        },
        "id": "o4v10w09k77J",
        "outputId": "cfc0ade8-e07e-4fd9-c6b9-ef34b7395c4d"
      },
      "outputs": [
        {
          "name": "stdout",
          "output_type": "stream",
          "text": [
            "@motherofblogs -- done\n",
            "{'views': '12585441', 'subs': '295K'}\n"
          ]
        }
      ],
      "source": [
        "#parsing resources of statistics like SocialBlade\n",
        "\n",
        "from bs4 import BeautifulSoup\n",
        "import requests\n",
        "import json\n",
        "import aiohttp\n",
        "import asyncio\n",
        "\n",
        "import nest_asyncio\n",
        "nest_asyncio.apply()\n",
        "\n",
        "import asyncio\n",
        "awaitfn = lambda x: asyncio.get_event_loop().run_until_complete(x)\n",
        "\n",
        "headers = {\n",
        "    \"Accept\": \"*/*\",\n",
        "    \"User-Agent\": \"Mozilla/5.0 (Linux; Android 6.0; Nexus 5 Build/MRA58N) AppleWebKit/537.36 (KHTML, like Gecko) Chrome/106.0.0.0 Mobile Safari/537.36 Edg/106.0.1370.34\"\n",
        "    }\n",
        "\n",
        "data = {}\n",
        "\n",
        "async def get_page_data(session, resource, statistics, req_kpi_list, scr, tag, main_class, child_cond_tag = '', child_cond_class = ''):\n",
        "    url = None\n",
        "    if statistics == \"yt-sb\": #url текущей страницы\n",
        "        url = \"https://socialblade.com/youtube/channel/\"+resource\n",
        "        tag = \"div\"\n",
        "        main_class = \"YouTubeUserTopInfo\"\n",
        "\n",
        "    async with session.get(url=url, headers=headers) as response:\n",
        "        response_text = await response.text() #получаем содердимое страницы\n",
        "        soup = BeautifulSoup(response_text, 'html.parser')\n",
        "\n",
        "        #kpi = soup.find_all(tag, main_class) #ищем все элементы с данными тэгом и классом\n",
        "        for req_kpi in req_kpi_list:\n",
        "            kpi = soup.find_all(\"span\", {\"id\": \"youtube-stats-header-{0}\".format(req_kpi)})\n",
        "\n",
        "\n",
        "            for one_kpi in kpi:\n",
        "                current_str = one_kpi.text.strip() #выделяем\n",
        "                data[req_kpi]=current_str\n",
        "\n",
        "\n",
        "\n",
        "async def gather_data(resource, statistics, kpi, scr, tag, main_class, parent_cond_tag = '', parent_cond_class = ''): #сбор новостей\n",
        "    async with aiohttp.ClientSession() as session:\n",
        "        tasks = [asyncio.create_task(get_page_data(session, resource, statistics, kpi, scr, tag, main_class, parent_cond_tag, parent_cond_class))]\n",
        "        awaitfn(asyncio.gather(*tasks))\n",
        "        print(resource, \"-- done\")\n",
        "\n",
        "\n",
        "def parse(resource, statistics, kpi, scr = None, tag =None, main_class =None, parent_cond_tag = None, parent_cond_class = None): #функция запуска парсинга\n",
        "    asyncio.run(gather_data(resource, statistics, kpi, scr, tag, main_class, parent_cond_tag, parent_cond_class))\n",
        "\n",
        "\n",
        "def to_json(bases, name_file): #экспорт в json\n",
        "    with open(\"{0}.json\".format(name_file), \"w\", encoding='utf-8') as file:\n",
        "        json.dump(bases, file, indent=4, ensure_ascii=False)\n",
        "\n",
        "\n",
        "\n",
        "if __name__ == '__main__':\n",
        "    parse('@motherofblogs', 'yt-sb', [\"views\", \"subs\"])\n",
        "    print(data)\n"
      ]
    }
  ],
  "metadata": {
    "colab": {
      "provenance": []
    },
    "kernelspec": {
      "display_name": "Python 3",
      "name": "python3"
    },
    "language_info": {
      "name": "python"
    }
  },
  "nbformat": 4,
  "nbformat_minor": 0
}

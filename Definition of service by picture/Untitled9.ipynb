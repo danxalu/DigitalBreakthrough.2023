{
  "nbformat": 4,
  "nbformat_minor": 0,
  "metadata": {
    "colab": {
      "provenance": [],
      "authorship_tag": "ABX9TyNGqGBAxTNF4mextVj7PmZ4",
      "include_colab_link": true
    },
    "kernelspec": {
      "name": "python3",
      "display_name": "Python 3"
    },
    "language_info": {
      "name": "python"
    }
  },
  "cells": [
    {
      "cell_type": "markdown",
      "metadata": {
        "id": "view-in-github",
        "colab_type": "text"
      },
      "source": [
        "<a href=\"https://colab.research.google.com/github/NoCommentsSir/Screen_classificator/blob/main/Untitled9.ipynb\" target=\"_parent\"><img src=\"https://colab.research.google.com/assets/colab-badge.svg\" alt=\"Open In Colab\"/></a>"
      ]
    },
    {
      "cell_type": "code",
      "source": [
        "from zipfile import ZipFile\n",
        "import os"
      ],
      "metadata": {
        "id": "M1lYXgDZdiOl"
      },
      "execution_count": 54,
      "outputs": []
    },
    {
      "cell_type": "code",
      "source": [
        "import zipfile\n",
        "from google.colab import drive\n",
        "\n",
        "drive.mount('/content/drive/')\n",
        "\n",
        "zip_ref = zipfile.ZipFile(\"/content/drive/MyDrive/dataset.zip\", 'r')\n",
        "zip_ref.extractall(\"/content\")\n",
        "zip_ref.close()"
      ],
      "metadata": {
        "colab": {
          "base_uri": "https://localhost:8080/"
        },
        "id": "BGgi4TOld5D-",
        "outputId": "d05e9537-0619-4f04-94b6-896dc9ed951d"
      },
      "execution_count": 55,
      "outputs": [
        {
          "output_type": "stream",
          "name": "stdout",
          "text": [
            "Drive already mounted at /content/drive/; to attempt to forcibly remount, call drive.mount(\"/content/drive/\", force_remount=True).\n"
          ]
        }
      ]
    },
    {
      "cell_type": "code",
      "source": [
        "import os\n",
        "from PIL import Image\n",
        "directory = '/content/train/yt/'\n",
        "for filename in os.listdir(directory):\n",
        "    f = os.path.join(directory, filename)\n",
        "    if os.path.isfile(f):\n",
        "      im = Image.open(f)\n",
        "      rgb_im = im.convert('RGB')\n",
        "      rgb_im.save(f.replace(\"PNG\", \"jpg\"), quality=95)"
      ],
      "metadata": {
        "id": "3uR8rLz1l2tr"
      },
      "execution_count": 49,
      "outputs": []
    },
    {
      "cell_type": "code",
      "source": [
        "from keras.preprocessing.image import ImageDataGenerator\n",
        "from keras.models import Sequential\n",
        "from keras.layers import Conv2D, MaxPooling2D\n",
        "from keras.layers import Activation, Dropout, Flatten, Dense\n",
        "from keras import backend as K"
      ],
      "metadata": {
        "id": "HJCyBp80h4vB"
      },
      "execution_count": 56,
      "outputs": []
    },
    {
      "cell_type": "code",
      "source": [
        "image_width, image_height = 250, 250\n",
        "directory_data_train= '/content/train'\n",
        "directory_data_test= '/content/test'"
      ],
      "metadata": {
        "id": "3OnnPw8l_mFh"
      },
      "execution_count": 57,
      "outputs": []
    },
    {
      "cell_type": "code",
      "source": [
        "train_sample = 245\n",
        "validation_sample = 35\n",
        "epochs = 8\n",
        "lot_size = 25\n",
        "if K.image_data_format() != 'channels_first':\n",
        "     input_shape = (image_width, image_height, 3)\n",
        "else:\n",
        "     input_shape = (3, image_width, image_height)"
      ],
      "metadata": {
        "id": "GHe43XUzEpH4"
      },
      "execution_count": 58,
      "outputs": []
    },
    {
      "cell_type": "code",
      "source": [
        "for filename in os.listdir(directory):\n",
        "    f = os.path.join(directory, filename)\n",
        "    if os.path.isfile(f):\n",
        "      im = Image.open(f)\n",
        "      rgb_im = im.convert('RGB')\n",
        "      rgb_im.save(f.replace(\"png\", \"jpg\"), quality=95)"
      ],
      "metadata": {
        "id": "la-YTIeul7dy"
      },
      "execution_count": 50,
      "outputs": []
    },
    {
      "cell_type": "code",
      "source": [
        "for filename in os.listdir(directory):\n",
        "    f = os.path.join(directory, filename)\n",
        "    if f[-3:-2] == 'p' or f[-3:-2] == 'P':\n",
        "      os.remove(f)"
      ],
      "metadata": {
        "id": "f5y8Q6McmA4i"
      },
      "execution_count": 51,
      "outputs": []
    },
    {
      "cell_type": "code",
      "source": [
        "for filename in os.listdir(directory):\n",
        "  print(filename)"
      ],
      "metadata": {
        "colab": {
          "base_uri": "https://localhost:8080/"
        },
        "id": "S8qPfaz3mJ2F",
        "outputId": "c39264b8-8d8b-41d8-9795-2a8b767bef6f"
      },
      "execution_count": 52,
      "outputs": [
        {
          "output_type": "stream",
          "name": "stdout",
          "text": [
            "69673db7-018c-492c-9c12-f5d27ff9478a.jpg\n",
            "82e33ed2-cb48-4842-848a-c278f54d1499.jpg\n",
            "71d7404c-ec63-4006-b37b-24823a9e486d.jpg\n",
            ".ipynb_checkpoints\n",
            "d0568cd7-e3cc-48a1-90bd-e7eb0a7832de.jpg\n",
            "31ac256f-0b23-46f5-8412-82e9f66e18a1.jpg\n",
            "82b3ce46-dc5f-4171-a229-dda27550f718.jpg\n",
            "5f7c6016-1895-432e-aaa3-4ae3a81a1b8a.jpg\n",
            "4285fe91-f7fe-4580-b94e-dd170749a999.jpg\n",
            "5b2bb077-4055-4253-9fb7-b7d5c092f0b5.jpg\n",
            "ed11c322-05c4-4255-a807-3c5f561d5156.jpg\n",
            "517363b8-573f-4704-a82b-6e2c647dced4.jpg\n",
            "5caff51d-e3e6-4aca-9aea-9bfeff8c4d83.jpg\n",
            "8bd3349b-d844-4571-83ef-610d3386cb01_11zon.jpg\n",
            "d1102ba0-ad6d-4735-abf3-155b65948abf.jpg\n",
            "92565c5e-7f96-4fb3-a9aa-9a451decf7d5.jpg\n",
            "8094dbc5-5aca-4d9d-9411-a155699ab90b.jpg\n",
            "28d834cf-1963-493a-8e01-d2eb663db8a4.JPG\n",
            "8fa1869b-4509-4d9a-a639-2f22b00ab04d.jpg\n",
            "a7925804-1623-496a-bd42-41933b710d45.jpg\n",
            "a0aec666-f500-4b2a-ba5e-2e181571f73c.jpg\n",
            "721d1cc2-3c6d-48a5-9793-8eb7e24409db.jpg\n",
            "d930a459-8d25-49f8-9499-0abc260c00ca.jpg\n",
            "89c225e5-d0ca-41cf-b0a0-c4255005166b.jpg\n",
            "356fd5c8-3e66-40b0-be5c-b483efcc750f.jpg\n",
            "74bd4a12-5284-467c-9e67-66d9101ec6d6.jpg\n",
            "adbcfe9e-9c47-48ce-a0bc-0594cd664b1f.jpg\n",
            "45404c55-8e7e-4d6c-811c-450fd35d9af3.jpg\n",
            "9f2f74b5-ef87-4c01-ac76-aec38155fd11.jpg\n",
            "b0637d57-1516-4d2a-9f5b-40f0fdfbe8c9.jpg\n",
            "96591bc7-fb38-421a-af8c-fbf756e625d8.jpg\n",
            "f2b75454-29da-4953-8d9c-791d41d1e65b.jpg\n",
            "7c760108-5172-4a4f-ae01-beae24b50fd0.jpg\n",
            "2c0f1b0f-39a9-4e59-9a9c-a2b7e6841211.jpg\n",
            "853af8f2-4e6e-4769-9a00-1295c9529df6.jpg\n",
            "305115dc-2107-4027-b5da-072834ccaa8a.jpg\n",
            "32bfe928-352c-4914-b215-dcc02136d328.jpg\n",
            "dd7506a2-d8ac-45a5-b72a-acbc142ca3e0.JPG\n",
            "d6f110ca-c484-4ab5-8b8f-aac2ad717f9c.jpg\n",
            "63fb7571-ccc9-4fc0-ad7a-2ec01a6863df.jpg\n",
            "6d164e5d-f619-4351-b07f-f1223f144b1f_11zon.jpg\n",
            "6e76fd26-c5e1-40c4-a71c-0631f397bc28.jpg\n",
            "eb2824ca-cd91-4b2a-b25a-1685ecfa6c66_11zon.jpg\n",
            "6fae6c8b-d301-495c-b700-3d65f4c86a41.jpg\n",
            "5086ab7b-ada3-4bc0-9151-b5385b261562.jpg\n",
            "92619b94-be2a-4e23-82fe-03064946a99c.jpg\n",
            "60f87347-9ec5-4801-99d5-61027b21cbc0.JPG\n",
            "9244acd5-1b80-4e8a-9a77-5e4bf1a4a295.jpg\n",
            "ce7bcc7d-54ab-4c36-bc0c-514967914adc.jpg\n",
            "9bfdfa79-3779-4612-94e2-428c90f606e6.JPG\n"
          ]
        }
      ]
    },
    {
      "cell_type": "code",
      "source": [
        "pattern = Sequential() # Создание модели\n",
        "\n",
        "pattern.add(Conv2D(32, (3, 3), input_shape=input_shape))\n",
        "pattern.add(Activation('relu'))\n",
        "pattern.add(MaxPooling2D(pool_size=(2, 2)))\n",
        "\n",
        "pattern.add(Conv2D(32, (3, 3)))\n",
        "pattern.add(Activation('relu'))\n",
        "pattern.add(MaxPooling2D(pool_size=(2, 2)))\n",
        "\n",
        "pattern.add(Conv2D(64, (3, 3)))\n",
        "pattern.add(Activation('relu'))\n",
        "pattern.add(MaxPooling2D(pool_size=(2, 2)))\n",
        "\n",
        "pattern.add(Flatten())\n",
        "pattern.add(Dense(64))\n",
        "pattern.add(Activation('relu'))\n",
        "pattern.add(Dropout(0.5))\n",
        "pattern.add(Dense(5))\n",
        "pattern.add(Activation('softmax'))\n",
        "\n",
        "pattern.compile(loss='categorical_crossentropy',\n",
        "              optimizer='rmsprop',\n",
        "              metrics=['accuracy'])"
      ],
      "metadata": {
        "id": "GTJipJC4E_qV"
      },
      "execution_count": 59,
      "outputs": []
    },
    {
      "cell_type": "code",
      "source": [
        "train_datagen = ImageDataGenerator(\n",
        "    rescale=1. / 255,\n",
        "    shear_range=0.2,\n",
        "    zoom_range=0.2,\n",
        "    horizontal_flip=True)\n",
        "test_datagen = ImageDataGenerator(rescale=1. / 255)"
      ],
      "metadata": {
        "id": "dJgCGkWdFfQ1"
      },
      "execution_count": 60,
      "outputs": []
    },
    {
      "cell_type": "code",
      "source": [
        "train_processing = train_datagen.flow_from_directory(\n",
        "    directory_data_train,\n",
        "    target_size=(image_width, image_height),\n",
        "    batch_size=lot_size,\n",
        "    class_mode='categorical')"
      ],
      "metadata": {
        "colab": {
          "base_uri": "https://localhost:8080/"
        },
        "id": "y_NOa5r1GO1o",
        "outputId": "be42e20e-557b-4ee8-dcf6-bc67eaa2b57d"
      },
      "execution_count": 61,
      "outputs": [
        {
          "output_type": "stream",
          "name": "stdout",
          "text": [
            "Found 244 images belonging to 5 classes.\n"
          ]
        }
      ]
    },
    {
      "cell_type": "code",
      "source": [
        "test_processing= test_datagen.flow_from_directory(\n",
        "    directory_data_test,\n",
        "    target_size=(image_width, image_height),\n",
        "    batch_size=lot_size,\n",
        "    class_mode='categorical')"
      ],
      "metadata": {
        "colab": {
          "base_uri": "https://localhost:8080/"
        },
        "id": "TwDq8-pRG9ZT",
        "outputId": "1592e394-4ca7-4187-de32-6f840f50e466"
      },
      "execution_count": 62,
      "outputs": [
        {
          "output_type": "stream",
          "name": "stdout",
          "text": [
            "Found 35 images belonging to 5 classes.\n"
          ]
        }
      ]
    },
    {
      "cell_type": "code",
      "source": [
        "pattern.fit_generator(\n",
        "    train_processing,\n",
        "    steps_per_epoch=train_sample // lot_size,\n",
        "    epochs=epochs,\n",
        "    validation_data=test_processing,\n",
        "    validation_steps=validation_sample  // lot_size)"
      ],
      "metadata": {
        "colab": {
          "base_uri": "https://localhost:8080/"
        },
        "id": "pRsB6GjOGiyl",
        "outputId": "4127c33d-167b-4e2a-b206-f18bd5c93f39"
      },
      "execution_count": 63,
      "outputs": [
        {
          "output_type": "stream",
          "name": "stderr",
          "text": [
            "<ipython-input-63-f6049a6e13de>:1: UserWarning: `Model.fit_generator` is deprecated and will be removed in a future version. Please use `Model.fit`, which supports generators.\n",
            "  pattern.fit_generator(\n"
          ]
        },
        {
          "output_type": "stream",
          "name": "stdout",
          "text": [
            "Epoch 1/8\n",
            "9/9 [==============================] - 37s 4s/step - loss: 3.3025 - accuracy: 0.2374 - val_loss: 1.6018 - val_accuracy: 0.3200\n",
            "Epoch 2/8\n",
            "9/9 [==============================] - 39s 4s/step - loss: 1.5909 - accuracy: 0.2511 - val_loss: 1.4938 - val_accuracy: 0.5200\n",
            "Epoch 3/8\n",
            "9/9 [==============================] - 31s 3s/step - loss: 1.5849 - accuracy: 0.3562 - val_loss: 1.3962 - val_accuracy: 0.5200\n",
            "Epoch 4/8\n",
            "9/9 [==============================] - 36s 4s/step - loss: 1.4260 - accuracy: 0.4292 - val_loss: 1.1417 - val_accuracy: 0.6800\n",
            "Epoch 5/8\n",
            "9/9 [==============================] - 31s 3s/step - loss: 1.2330 - accuracy: 0.5662 - val_loss: 1.1985 - val_accuracy: 0.4800\n",
            "Epoch 6/8\n",
            "9/9 [==============================] - 31s 4s/step - loss: 1.1125 - accuracy: 0.5936 - val_loss: 1.4122 - val_accuracy: 0.4800\n",
            "Epoch 7/8\n",
            "9/9 [==============================] - 34s 3s/step - loss: 1.0319 - accuracy: 0.6164 - val_loss: 0.7593 - val_accuracy: 0.7200\n",
            "Epoch 8/8\n",
            "9/9 [==============================] - 32s 4s/step - loss: 1.0844 - accuracy: 0.6073 - val_loss: 0.9450 - val_accuracy: 0.7200\n"
          ]
        },
        {
          "output_type": "execute_result",
          "data": {
            "text/plain": [
              "<keras.callbacks.History at 0x78bd742d1060>"
            ]
          },
          "metadata": {},
          "execution_count": 63
        }
      ]
    },
    {
      "cell_type": "code",
      "source": [
        "pattern.save_weights('first_model_weights.h5')\n",
        "pattern.save('path')"
      ],
      "metadata": {
        "id": "uwJb30psGwhi",
        "colab": {
          "base_uri": "https://localhost:8080/"
        },
        "outputId": "16198016-4fbf-4ab2-e620-ccd21180940a"
      },
      "execution_count": 64,
      "outputs": [
        {
          "output_type": "stream",
          "name": "stderr",
          "text": [
            "WARNING:absl:Found untraced functions such as _jit_compiled_convolution_op, _jit_compiled_convolution_op, _jit_compiled_convolution_op, _update_step_xla while saving (showing 4 of 4). These functions will not be directly callable after loading.\n"
          ]
        }
      ]
    },
    {
      "cell_type": "code",
      "source": [
        "!pip install tensorflow"
      ],
      "metadata": {
        "colab": {
          "base_uri": "https://localhost:8080/"
        },
        "id": "_JTDplaD_Lgh",
        "outputId": "4358d772-5689-49ee-f5c8-ea7497d82c21"
      },
      "execution_count": 70,
      "outputs": [
        {
          "output_type": "stream",
          "name": "stdout",
          "text": [
            "Requirement already satisfied: tensorflow in /usr/local/lib/python3.10/dist-packages (2.12.0)\n",
            "Requirement already satisfied: absl-py>=1.0.0 in /usr/local/lib/python3.10/dist-packages (from tensorflow) (1.4.0)\n",
            "Requirement already satisfied: astunparse>=1.6.0 in /usr/local/lib/python3.10/dist-packages (from tensorflow) (1.6.3)\n",
            "Requirement already satisfied: flatbuffers>=2.0 in /usr/local/lib/python3.10/dist-packages (from tensorflow) (23.5.26)\n",
            "Requirement already satisfied: gast<=0.4.0,>=0.2.1 in /usr/local/lib/python3.10/dist-packages (from tensorflow) (0.4.0)\n",
            "Requirement already satisfied: google-pasta>=0.1.1 in /usr/local/lib/python3.10/dist-packages (from tensorflow) (0.2.0)\n",
            "Requirement already satisfied: grpcio<2.0,>=1.24.3 in /usr/local/lib/python3.10/dist-packages (from tensorflow) (1.57.0)\n",
            "Requirement already satisfied: h5py>=2.9.0 in /usr/local/lib/python3.10/dist-packages (from tensorflow) (3.9.0)\n",
            "Requirement already satisfied: jax>=0.3.15 in /usr/local/lib/python3.10/dist-packages (from tensorflow) (0.4.14)\n",
            "Requirement already satisfied: keras<2.13,>=2.12.0 in /usr/local/lib/python3.10/dist-packages (from tensorflow) (2.12.0)\n",
            "Requirement already satisfied: libclang>=13.0.0 in /usr/local/lib/python3.10/dist-packages (from tensorflow) (16.0.6)\n",
            "Requirement already satisfied: numpy<1.24,>=1.22 in /usr/local/lib/python3.10/dist-packages (from tensorflow) (1.23.5)\n",
            "Requirement already satisfied: opt-einsum>=2.3.2 in /usr/local/lib/python3.10/dist-packages (from tensorflow) (3.3.0)\n",
            "Requirement already satisfied: packaging in /usr/local/lib/python3.10/dist-packages (from tensorflow) (23.1)\n",
            "Requirement already satisfied: protobuf!=4.21.0,!=4.21.1,!=4.21.2,!=4.21.3,!=4.21.4,!=4.21.5,<5.0.0dev,>=3.20.3 in /usr/local/lib/python3.10/dist-packages (from tensorflow) (3.20.3)\n",
            "Requirement already satisfied: setuptools in /usr/local/lib/python3.10/dist-packages (from tensorflow) (67.7.2)\n",
            "Requirement already satisfied: six>=1.12.0 in /usr/local/lib/python3.10/dist-packages (from tensorflow) (1.16.0)\n",
            "Requirement already satisfied: tensorboard<2.13,>=2.12 in /usr/local/lib/python3.10/dist-packages (from tensorflow) (2.12.3)\n",
            "Requirement already satisfied: tensorflow-estimator<2.13,>=2.12.0 in /usr/local/lib/python3.10/dist-packages (from tensorflow) (2.12.0)\n",
            "Requirement already satisfied: termcolor>=1.1.0 in /usr/local/lib/python3.10/dist-packages (from tensorflow) (2.3.0)\n",
            "Requirement already satisfied: typing-extensions>=3.6.6 in /usr/local/lib/python3.10/dist-packages (from tensorflow) (4.7.1)\n",
            "Requirement already satisfied: wrapt<1.15,>=1.11.0 in /usr/local/lib/python3.10/dist-packages (from tensorflow) (1.14.1)\n",
            "Requirement already satisfied: tensorflow-io-gcs-filesystem>=0.23.1 in /usr/local/lib/python3.10/dist-packages (from tensorflow) (0.33.0)\n",
            "Requirement already satisfied: wheel<1.0,>=0.23.0 in /usr/local/lib/python3.10/dist-packages (from astunparse>=1.6.0->tensorflow) (0.41.2)\n",
            "Requirement already satisfied: ml-dtypes>=0.2.0 in /usr/local/lib/python3.10/dist-packages (from jax>=0.3.15->tensorflow) (0.2.0)\n",
            "Requirement already satisfied: scipy>=1.7 in /usr/local/lib/python3.10/dist-packages (from jax>=0.3.15->tensorflow) (1.10.1)\n",
            "Requirement already satisfied: google-auth<3,>=1.6.3 in /usr/local/lib/python3.10/dist-packages (from tensorboard<2.13,>=2.12->tensorflow) (2.17.3)\n",
            "Requirement already satisfied: google-auth-oauthlib<1.1,>=0.5 in /usr/local/lib/python3.10/dist-packages (from tensorboard<2.13,>=2.12->tensorflow) (1.0.0)\n",
            "Requirement already satisfied: markdown>=2.6.8 in /usr/local/lib/python3.10/dist-packages (from tensorboard<2.13,>=2.12->tensorflow) (3.4.4)\n",
            "Requirement already satisfied: requests<3,>=2.21.0 in /usr/local/lib/python3.10/dist-packages (from tensorboard<2.13,>=2.12->tensorflow) (2.31.0)\n",
            "Requirement already satisfied: tensorboard-data-server<0.8.0,>=0.7.0 in /usr/local/lib/python3.10/dist-packages (from tensorboard<2.13,>=2.12->tensorflow) (0.7.1)\n",
            "Requirement already satisfied: werkzeug>=1.0.1 in /usr/local/lib/python3.10/dist-packages (from tensorboard<2.13,>=2.12->tensorflow) (2.3.7)\n",
            "Requirement already satisfied: cachetools<6.0,>=2.0.0 in /usr/local/lib/python3.10/dist-packages (from google-auth<3,>=1.6.3->tensorboard<2.13,>=2.12->tensorflow) (5.3.1)\n",
            "Requirement already satisfied: pyasn1-modules>=0.2.1 in /usr/local/lib/python3.10/dist-packages (from google-auth<3,>=1.6.3->tensorboard<2.13,>=2.12->tensorflow) (0.3.0)\n",
            "Requirement already satisfied: rsa<5,>=3.1.4 in /usr/local/lib/python3.10/dist-packages (from google-auth<3,>=1.6.3->tensorboard<2.13,>=2.12->tensorflow) (4.9)\n",
            "Requirement already satisfied: requests-oauthlib>=0.7.0 in /usr/local/lib/python3.10/dist-packages (from google-auth-oauthlib<1.1,>=0.5->tensorboard<2.13,>=2.12->tensorflow) (1.3.1)\n",
            "Requirement already satisfied: charset-normalizer<4,>=2 in /usr/local/lib/python3.10/dist-packages (from requests<3,>=2.21.0->tensorboard<2.13,>=2.12->tensorflow) (3.2.0)\n",
            "Requirement already satisfied: idna<4,>=2.5 in /usr/local/lib/python3.10/dist-packages (from requests<3,>=2.21.0->tensorboard<2.13,>=2.12->tensorflow) (3.4)\n",
            "Requirement already satisfied: urllib3<3,>=1.21.1 in /usr/local/lib/python3.10/dist-packages (from requests<3,>=2.21.0->tensorboard<2.13,>=2.12->tensorflow) (2.0.4)\n",
            "Requirement already satisfied: certifi>=2017.4.17 in /usr/local/lib/python3.10/dist-packages (from requests<3,>=2.21.0->tensorboard<2.13,>=2.12->tensorflow) (2023.7.22)\n",
            "Requirement already satisfied: MarkupSafe>=2.1.1 in /usr/local/lib/python3.10/dist-packages (from werkzeug>=1.0.1->tensorboard<2.13,>=2.12->tensorflow) (2.1.3)\n",
            "Requirement already satisfied: pyasn1<0.6.0,>=0.4.6 in /usr/local/lib/python3.10/dist-packages (from pyasn1-modules>=0.2.1->google-auth<3,>=1.6.3->tensorboard<2.13,>=2.12->tensorflow) (0.5.0)\n",
            "Requirement already satisfied: oauthlib>=3.0.0 in /usr/local/lib/python3.10/dist-packages (from requests-oauthlib>=0.7.0->google-auth-oauthlib<1.1,>=0.5->tensorboard<2.13,>=2.12->tensorflow) (3.2.2)\n"
          ]
        }
      ]
    },
    {
      "cell_type": "code",
      "source": [
        "import numpy as np\n",
        "from tensorflow.keras import utils as image\n",
        "def load_image(img_path, show=True):\n",
        "    img_original = image.load_img(img_path)\n",
        "    img = image.load_img(img_path,target_size=(250,250))\n",
        "    img_tensor = image.img_to_array(img)\n",
        "    img_tensor = np.expand_dims(img_tensor,axis=0)\n",
        "    img_tensor /= 255.\n",
        "    return img_tensor"
      ],
      "metadata": {
        "id": "zi2uXzk-7K1U"
      },
      "execution_count": 93,
      "outputs": []
    },
    {
      "cell_type": "code",
      "source": [
        "import pandas as pd\n",
        "valid = os.listdir('/content/valid')\n",
        "\n",
        "df = pd.DataFrame(valid)\n",
        "df['target'] = 0\n",
        "df['path'] = '/content/valid/'\n",
        "df['path'] = df['path'] + df[0]\n",
        "df['predict'] = 0\n",
        "arr = [4, 0, 2, 4, 3, 3, 1, 0, 1, 2]\n",
        "df.target = arr\n",
        "df"
      ],
      "metadata": {
        "colab": {
          "base_uri": "https://localhost:8080/",
          "height": 363
        },
        "id": "_A1nIK6cDSml",
        "outputId": "8ddde41d-2c92-4b98-d580-b48747ee5a7b"
      },
      "execution_count": 85,
      "outputs": [
        {
          "output_type": "execute_result",
          "data": {
            "text/plain": [
              "                                          0  target  \\\n",
              "0  d38c0ce3-59c8-4be4-a69c-06a0655e32e1.jpg       4   \n",
              "1  c1946847-c459-47c2-9a34-e1dab5759992.jpg       0   \n",
              "2  d3f0b347-a8a8-40a4-9f56-a09f8a0599f9.jpg       2   \n",
              "3  a379bbc1-1fc8-4c2c-b746-0e013d89e218.jpg       4   \n",
              "4  a0aec666-f500-4b2a-ba5e-2e181571f73c.jpg       3   \n",
              "5  356fd5c8-3e66-40b0-be5c-b483efcc750f.jpg       3   \n",
              "6  e9b66336-daf4-4348-907d-6764ed7df764.jpg       1   \n",
              "7  e560a91f-2dda-4360-bca6-6ba677c7e38b.jpg       0   \n",
              "8  f267802d-8c79-4c19-b117-b85e825d8fdc.jpg       1   \n",
              "9  d0a0ce59-2cb1-4aa5-984d-7088e00f5a69.jpg       2   \n",
              "\n",
              "                                                path  predict  \n",
              "0  /content/valid/d38c0ce3-59c8-4be4-a69c-06a0655...        0  \n",
              "1  /content/valid/c1946847-c459-47c2-9a34-e1dab57...        0  \n",
              "2  /content/valid/d3f0b347-a8a8-40a4-9f56-a09f8a0...        0  \n",
              "3  /content/valid/a379bbc1-1fc8-4c2c-b746-0e013d8...        0  \n",
              "4  /content/valid/a0aec666-f500-4b2a-ba5e-2e18157...        0  \n",
              "5  /content/valid/356fd5c8-3e66-40b0-be5c-b483efc...        0  \n",
              "6  /content/valid/e9b66336-daf4-4348-907d-6764ed7...        0  \n",
              "7  /content/valid/e560a91f-2dda-4360-bca6-6ba677c...        0  \n",
              "8  /content/valid/f267802d-8c79-4c19-b117-b85e825...        0  \n",
              "9  /content/valid/d0a0ce59-2cb1-4aa5-984d-7088e00...        0  "
            ],
            "text/html": [
              "\n",
              "  <div id=\"df-f44cb9d3-b7c2-406a-9ac9-e741665d5ea3\" class=\"colab-df-container\">\n",
              "    <div>\n",
              "<style scoped>\n",
              "    .dataframe tbody tr th:only-of-type {\n",
              "        vertical-align: middle;\n",
              "    }\n",
              "\n",
              "    .dataframe tbody tr th {\n",
              "        vertical-align: top;\n",
              "    }\n",
              "\n",
              "    .dataframe thead th {\n",
              "        text-align: right;\n",
              "    }\n",
              "</style>\n",
              "<table border=\"1\" class=\"dataframe\">\n",
              "  <thead>\n",
              "    <tr style=\"text-align: right;\">\n",
              "      <th></th>\n",
              "      <th>0</th>\n",
              "      <th>target</th>\n",
              "      <th>path</th>\n",
              "      <th>predict</th>\n",
              "    </tr>\n",
              "  </thead>\n",
              "  <tbody>\n",
              "    <tr>\n",
              "      <th>0</th>\n",
              "      <td>d38c0ce3-59c8-4be4-a69c-06a0655e32e1.jpg</td>\n",
              "      <td>4</td>\n",
              "      <td>/content/valid/d38c0ce3-59c8-4be4-a69c-06a0655...</td>\n",
              "      <td>0</td>\n",
              "    </tr>\n",
              "    <tr>\n",
              "      <th>1</th>\n",
              "      <td>c1946847-c459-47c2-9a34-e1dab5759992.jpg</td>\n",
              "      <td>0</td>\n",
              "      <td>/content/valid/c1946847-c459-47c2-9a34-e1dab57...</td>\n",
              "      <td>0</td>\n",
              "    </tr>\n",
              "    <tr>\n",
              "      <th>2</th>\n",
              "      <td>d3f0b347-a8a8-40a4-9f56-a09f8a0599f9.jpg</td>\n",
              "      <td>2</td>\n",
              "      <td>/content/valid/d3f0b347-a8a8-40a4-9f56-a09f8a0...</td>\n",
              "      <td>0</td>\n",
              "    </tr>\n",
              "    <tr>\n",
              "      <th>3</th>\n",
              "      <td>a379bbc1-1fc8-4c2c-b746-0e013d89e218.jpg</td>\n",
              "      <td>4</td>\n",
              "      <td>/content/valid/a379bbc1-1fc8-4c2c-b746-0e013d8...</td>\n",
              "      <td>0</td>\n",
              "    </tr>\n",
              "    <tr>\n",
              "      <th>4</th>\n",
              "      <td>a0aec666-f500-4b2a-ba5e-2e181571f73c.jpg</td>\n",
              "      <td>3</td>\n",
              "      <td>/content/valid/a0aec666-f500-4b2a-ba5e-2e18157...</td>\n",
              "      <td>0</td>\n",
              "    </tr>\n",
              "    <tr>\n",
              "      <th>5</th>\n",
              "      <td>356fd5c8-3e66-40b0-be5c-b483efcc750f.jpg</td>\n",
              "      <td>3</td>\n",
              "      <td>/content/valid/356fd5c8-3e66-40b0-be5c-b483efc...</td>\n",
              "      <td>0</td>\n",
              "    </tr>\n",
              "    <tr>\n",
              "      <th>6</th>\n",
              "      <td>e9b66336-daf4-4348-907d-6764ed7df764.jpg</td>\n",
              "      <td>1</td>\n",
              "      <td>/content/valid/e9b66336-daf4-4348-907d-6764ed7...</td>\n",
              "      <td>0</td>\n",
              "    </tr>\n",
              "    <tr>\n",
              "      <th>7</th>\n",
              "      <td>e560a91f-2dda-4360-bca6-6ba677c7e38b.jpg</td>\n",
              "      <td>0</td>\n",
              "      <td>/content/valid/e560a91f-2dda-4360-bca6-6ba677c...</td>\n",
              "      <td>0</td>\n",
              "    </tr>\n",
              "    <tr>\n",
              "      <th>8</th>\n",
              "      <td>f267802d-8c79-4c19-b117-b85e825d8fdc.jpg</td>\n",
              "      <td>1</td>\n",
              "      <td>/content/valid/f267802d-8c79-4c19-b117-b85e825...</td>\n",
              "      <td>0</td>\n",
              "    </tr>\n",
              "    <tr>\n",
              "      <th>9</th>\n",
              "      <td>d0a0ce59-2cb1-4aa5-984d-7088e00f5a69.jpg</td>\n",
              "      <td>2</td>\n",
              "      <td>/content/valid/d0a0ce59-2cb1-4aa5-984d-7088e00...</td>\n",
              "      <td>0</td>\n",
              "    </tr>\n",
              "  </tbody>\n",
              "</table>\n",
              "</div>\n",
              "    <div class=\"colab-df-buttons\">\n",
              "\n",
              "  <div class=\"colab-df-container\">\n",
              "    <button class=\"colab-df-convert\" onclick=\"convertToInteractive('df-f44cb9d3-b7c2-406a-9ac9-e741665d5ea3')\"\n",
              "            title=\"Convert this dataframe to an interactive table.\"\n",
              "            style=\"display:none;\">\n",
              "\n",
              "  <svg xmlns=\"http://www.w3.org/2000/svg\" height=\"24px\" viewBox=\"0 -960 960 960\">\n",
              "    <path d=\"M120-120v-720h720v720H120Zm60-500h600v-160H180v160Zm220 220h160v-160H400v160Zm0 220h160v-160H400v160ZM180-400h160v-160H180v160Zm440 0h160v-160H620v160ZM180-180h160v-160H180v160Zm440 0h160v-160H620v160Z\"/>\n",
              "  </svg>\n",
              "    </button>\n",
              "\n",
              "  <style>\n",
              "    .colab-df-container {\n",
              "      display:flex;\n",
              "      gap: 12px;\n",
              "    }\n",
              "\n",
              "    .colab-df-convert {\n",
              "      background-color: #E8F0FE;\n",
              "      border: none;\n",
              "      border-radius: 50%;\n",
              "      cursor: pointer;\n",
              "      display: none;\n",
              "      fill: #1967D2;\n",
              "      height: 32px;\n",
              "      padding: 0 0 0 0;\n",
              "      width: 32px;\n",
              "    }\n",
              "\n",
              "    .colab-df-convert:hover {\n",
              "      background-color: #E2EBFA;\n",
              "      box-shadow: 0px 1px 2px rgba(60, 64, 67, 0.3), 0px 1px 3px 1px rgba(60, 64, 67, 0.15);\n",
              "      fill: #174EA6;\n",
              "    }\n",
              "\n",
              "    .colab-df-buttons div {\n",
              "      margin-bottom: 4px;\n",
              "    }\n",
              "\n",
              "    [theme=dark] .colab-df-convert {\n",
              "      background-color: #3B4455;\n",
              "      fill: #D2E3FC;\n",
              "    }\n",
              "\n",
              "    [theme=dark] .colab-df-convert:hover {\n",
              "      background-color: #434B5C;\n",
              "      box-shadow: 0px 1px 3px 1px rgba(0, 0, 0, 0.15);\n",
              "      filter: drop-shadow(0px 1px 2px rgba(0, 0, 0, 0.3));\n",
              "      fill: #FFFFFF;\n",
              "    }\n",
              "  </style>\n",
              "\n",
              "    <script>\n",
              "      const buttonEl =\n",
              "        document.querySelector('#df-f44cb9d3-b7c2-406a-9ac9-e741665d5ea3 button.colab-df-convert');\n",
              "      buttonEl.style.display =\n",
              "        google.colab.kernel.accessAllowed ? 'block' : 'none';\n",
              "\n",
              "      async function convertToInteractive(key) {\n",
              "        const element = document.querySelector('#df-f44cb9d3-b7c2-406a-9ac9-e741665d5ea3');\n",
              "        const dataTable =\n",
              "          await google.colab.kernel.invokeFunction('convertToInteractive',\n",
              "                                                    [key], {});\n",
              "        if (!dataTable) return;\n",
              "\n",
              "        const docLinkHtml = 'Like what you see? Visit the ' +\n",
              "          '<a target=\"_blank\" href=https://colab.research.google.com/notebooks/data_table.ipynb>data table notebook</a>'\n",
              "          + ' to learn more about interactive tables.';\n",
              "        element.innerHTML = '';\n",
              "        dataTable['output_type'] = 'display_data';\n",
              "        await google.colab.output.renderOutput(dataTable, element);\n",
              "        const docLink = document.createElement('div');\n",
              "        docLink.innerHTML = docLinkHtml;\n",
              "        element.appendChild(docLink);\n",
              "      }\n",
              "    </script>\n",
              "  </div>\n",
              "\n",
              "\n",
              "<div id=\"df-744c0e28-6508-4f6d-aabd-2467546767cf\">\n",
              "  <button class=\"colab-df-quickchart\" onclick=\"quickchart('df-744c0e28-6508-4f6d-aabd-2467546767cf')\"\n",
              "            title=\"Suggest charts.\"\n",
              "            style=\"display:none;\">\n",
              "\n",
              "<svg xmlns=\"http://www.w3.org/2000/svg\" height=\"24px\"viewBox=\"0 0 24 24\"\n",
              "     width=\"24px\">\n",
              "    <g>\n",
              "        <path d=\"M19 3H5c-1.1 0-2 .9-2 2v14c0 1.1.9 2 2 2h14c1.1 0 2-.9 2-2V5c0-1.1-.9-2-2-2zM9 17H7v-7h2v7zm4 0h-2V7h2v10zm4 0h-2v-4h2v4z\"/>\n",
              "    </g>\n",
              "</svg>\n",
              "  </button>\n",
              "\n",
              "<style>\n",
              "  .colab-df-quickchart {\n",
              "    background-color: #E8F0FE;\n",
              "    border: none;\n",
              "    border-radius: 50%;\n",
              "    cursor: pointer;\n",
              "    display: none;\n",
              "    fill: #1967D2;\n",
              "    height: 32px;\n",
              "    padding: 0 0 0 0;\n",
              "    width: 32px;\n",
              "  }\n",
              "\n",
              "  .colab-df-quickchart:hover {\n",
              "    background-color: #E2EBFA;\n",
              "    box-shadow: 0px 1px 2px rgba(60, 64, 67, 0.3), 0px 1px 3px 1px rgba(60, 64, 67, 0.15);\n",
              "    fill: #174EA6;\n",
              "  }\n",
              "\n",
              "  [theme=dark] .colab-df-quickchart {\n",
              "    background-color: #3B4455;\n",
              "    fill: #D2E3FC;\n",
              "  }\n",
              "\n",
              "  [theme=dark] .colab-df-quickchart:hover {\n",
              "    background-color: #434B5C;\n",
              "    box-shadow: 0px 1px 3px 1px rgba(0, 0, 0, 0.15);\n",
              "    filter: drop-shadow(0px 1px 2px rgba(0, 0, 0, 0.3));\n",
              "    fill: #FFFFFF;\n",
              "  }\n",
              "</style>\n",
              "\n",
              "  <script>\n",
              "    async function quickchart(key) {\n",
              "      const charts = await google.colab.kernel.invokeFunction(\n",
              "          'suggestCharts', [key], {});\n",
              "    }\n",
              "    (() => {\n",
              "      let quickchartButtonEl =\n",
              "        document.querySelector('#df-744c0e28-6508-4f6d-aabd-2467546767cf button');\n",
              "      quickchartButtonEl.style.display =\n",
              "        google.colab.kernel.accessAllowed ? 'block' : 'none';\n",
              "    })();\n",
              "  </script>\n",
              "</div>\n",
              "    </div>\n",
              "  </div>\n"
            ]
          },
          "metadata": {},
          "execution_count": 85
        }
      ]
    },
    {
      "cell_type": "code",
      "source": [
        "def predict(img_file):\n",
        "    new_image = load_image(img_file)\n",
        "    pattern.load_weights('first_model_weights.h5')\n",
        "    pred = pattern.predict(new_image)\n",
        "    ind = np.unravel_index(np.argmax(pred), pred.shape)\n",
        "    print(ind[1])\n",
        "    return ind[1]"
      ],
      "metadata": {
        "id": "bupgpHMZK8Ty"
      },
      "execution_count": 118,
      "outputs": []
    },
    {
      "cell_type": "code",
      "source": [
        "for ix in df.index:\n",
        "    df['predict'][ix] = predict(df['path'][ix])\n",
        "df\n",
        "# print(pattern.classification_report(df['target'], df['predict']))"
      ],
      "metadata": {
        "colab": {
          "base_uri": "https://localhost:8080/",
          "height": 796
        },
        "id": "TbtI6n8V6zud",
        "outputId": "bdd3468a-2bfd-44ed-ab6d-ea2dcc75c57e"
      },
      "execution_count": 119,
      "outputs": [
        {
          "output_type": "stream",
          "name": "stdout",
          "text": [
            "1/1 [==============================] - 0s 135ms/step\n",
            "4\n"
          ]
        },
        {
          "output_type": "stream",
          "name": "stderr",
          "text": [
            "<ipython-input-119-425e647b20ea>:2: SettingWithCopyWarning: \n",
            "A value is trying to be set on a copy of a slice from a DataFrame\n",
            "\n",
            "See the caveats in the documentation: https://pandas.pydata.org/pandas-docs/stable/user_guide/indexing.html#returning-a-view-versus-a-copy\n",
            "  df['predict'][ix] = predict(df['path'][ix])\n"
          ]
        },
        {
          "output_type": "stream",
          "name": "stdout",
          "text": [
            "1/1 [==============================] - 0s 131ms/step\n",
            "0\n",
            "1/1 [==============================] - 0s 53ms/step\n",
            "2\n",
            "1/1 [==============================] - 0s 53ms/step\n",
            "4\n",
            "1/1 [==============================] - 0s 54ms/step\n",
            "3\n",
            "1/1 [==============================] - 0s 44ms/step\n",
            "3\n",
            "1/1 [==============================] - 0s 44ms/step\n",
            "1\n",
            "1/1 [==============================] - 0s 49ms/step\n",
            "0\n",
            "1/1 [==============================] - 0s 52ms/step\n",
            "0\n",
            "1/1 [==============================] - 0s 50ms/step\n",
            "2\n"
          ]
        },
        {
          "output_type": "execute_result",
          "data": {
            "text/plain": [
              "                                          0  target  \\\n",
              "0  d38c0ce3-59c8-4be4-a69c-06a0655e32e1.jpg       4   \n",
              "1  c1946847-c459-47c2-9a34-e1dab5759992.jpg       0   \n",
              "2  d3f0b347-a8a8-40a4-9f56-a09f8a0599f9.jpg       2   \n",
              "3  a379bbc1-1fc8-4c2c-b746-0e013d89e218.jpg       4   \n",
              "4  a0aec666-f500-4b2a-ba5e-2e181571f73c.jpg       3   \n",
              "5  356fd5c8-3e66-40b0-be5c-b483efcc750f.jpg       3   \n",
              "6  e9b66336-daf4-4348-907d-6764ed7df764.jpg       1   \n",
              "7  e560a91f-2dda-4360-bca6-6ba677c7e38b.jpg       0   \n",
              "8  f267802d-8c79-4c19-b117-b85e825d8fdc.jpg       1   \n",
              "9  d0a0ce59-2cb1-4aa5-984d-7088e00f5a69.jpg       2   \n",
              "\n",
              "                                                path  predict  \n",
              "0  /content/valid/d38c0ce3-59c8-4be4-a69c-06a0655...      4.0  \n",
              "1  /content/valid/c1946847-c459-47c2-9a34-e1dab57...      0.0  \n",
              "2  /content/valid/d3f0b347-a8a8-40a4-9f56-a09f8a0...      2.0  \n",
              "3  /content/valid/a379bbc1-1fc8-4c2c-b746-0e013d8...      4.0  \n",
              "4  /content/valid/a0aec666-f500-4b2a-ba5e-2e18157...      3.0  \n",
              "5  /content/valid/356fd5c8-3e66-40b0-be5c-b483efc...      3.0  \n",
              "6  /content/valid/e9b66336-daf4-4348-907d-6764ed7...      1.0  \n",
              "7  /content/valid/e560a91f-2dda-4360-bca6-6ba677c...      0.0  \n",
              "8  /content/valid/f267802d-8c79-4c19-b117-b85e825...      0.0  \n",
              "9  /content/valid/d0a0ce59-2cb1-4aa5-984d-7088e00...      2.0  "
            ],
            "text/html": [
              "\n",
              "  <div id=\"df-9d84b25d-5b58-4651-bb17-724e6e0a854d\" class=\"colab-df-container\">\n",
              "    <div>\n",
              "<style scoped>\n",
              "    .dataframe tbody tr th:only-of-type {\n",
              "        vertical-align: middle;\n",
              "    }\n",
              "\n",
              "    .dataframe tbody tr th {\n",
              "        vertical-align: top;\n",
              "    }\n",
              "\n",
              "    .dataframe thead th {\n",
              "        text-align: right;\n",
              "    }\n",
              "</style>\n",
              "<table border=\"1\" class=\"dataframe\">\n",
              "  <thead>\n",
              "    <tr style=\"text-align: right;\">\n",
              "      <th></th>\n",
              "      <th>0</th>\n",
              "      <th>target</th>\n",
              "      <th>path</th>\n",
              "      <th>predict</th>\n",
              "    </tr>\n",
              "  </thead>\n",
              "  <tbody>\n",
              "    <tr>\n",
              "      <th>0</th>\n",
              "      <td>d38c0ce3-59c8-4be4-a69c-06a0655e32e1.jpg</td>\n",
              "      <td>4</td>\n",
              "      <td>/content/valid/d38c0ce3-59c8-4be4-a69c-06a0655...</td>\n",
              "      <td>4.0</td>\n",
              "    </tr>\n",
              "    <tr>\n",
              "      <th>1</th>\n",
              "      <td>c1946847-c459-47c2-9a34-e1dab5759992.jpg</td>\n",
              "      <td>0</td>\n",
              "      <td>/content/valid/c1946847-c459-47c2-9a34-e1dab57...</td>\n",
              "      <td>0.0</td>\n",
              "    </tr>\n",
              "    <tr>\n",
              "      <th>2</th>\n",
              "      <td>d3f0b347-a8a8-40a4-9f56-a09f8a0599f9.jpg</td>\n",
              "      <td>2</td>\n",
              "      <td>/content/valid/d3f0b347-a8a8-40a4-9f56-a09f8a0...</td>\n",
              "      <td>2.0</td>\n",
              "    </tr>\n",
              "    <tr>\n",
              "      <th>3</th>\n",
              "      <td>a379bbc1-1fc8-4c2c-b746-0e013d89e218.jpg</td>\n",
              "      <td>4</td>\n",
              "      <td>/content/valid/a379bbc1-1fc8-4c2c-b746-0e013d8...</td>\n",
              "      <td>4.0</td>\n",
              "    </tr>\n",
              "    <tr>\n",
              "      <th>4</th>\n",
              "      <td>a0aec666-f500-4b2a-ba5e-2e181571f73c.jpg</td>\n",
              "      <td>3</td>\n",
              "      <td>/content/valid/a0aec666-f500-4b2a-ba5e-2e18157...</td>\n",
              "      <td>3.0</td>\n",
              "    </tr>\n",
              "    <tr>\n",
              "      <th>5</th>\n",
              "      <td>356fd5c8-3e66-40b0-be5c-b483efcc750f.jpg</td>\n",
              "      <td>3</td>\n",
              "      <td>/content/valid/356fd5c8-3e66-40b0-be5c-b483efc...</td>\n",
              "      <td>3.0</td>\n",
              "    </tr>\n",
              "    <tr>\n",
              "      <th>6</th>\n",
              "      <td>e9b66336-daf4-4348-907d-6764ed7df764.jpg</td>\n",
              "      <td>1</td>\n",
              "      <td>/content/valid/e9b66336-daf4-4348-907d-6764ed7...</td>\n",
              "      <td>1.0</td>\n",
              "    </tr>\n",
              "    <tr>\n",
              "      <th>7</th>\n",
              "      <td>e560a91f-2dda-4360-bca6-6ba677c7e38b.jpg</td>\n",
              "      <td>0</td>\n",
              "      <td>/content/valid/e560a91f-2dda-4360-bca6-6ba677c...</td>\n",
              "      <td>0.0</td>\n",
              "    </tr>\n",
              "    <tr>\n",
              "      <th>8</th>\n",
              "      <td>f267802d-8c79-4c19-b117-b85e825d8fdc.jpg</td>\n",
              "      <td>1</td>\n",
              "      <td>/content/valid/f267802d-8c79-4c19-b117-b85e825...</td>\n",
              "      <td>0.0</td>\n",
              "    </tr>\n",
              "    <tr>\n",
              "      <th>9</th>\n",
              "      <td>d0a0ce59-2cb1-4aa5-984d-7088e00f5a69.jpg</td>\n",
              "      <td>2</td>\n",
              "      <td>/content/valid/d0a0ce59-2cb1-4aa5-984d-7088e00...</td>\n",
              "      <td>2.0</td>\n",
              "    </tr>\n",
              "  </tbody>\n",
              "</table>\n",
              "</div>\n",
              "    <div class=\"colab-df-buttons\">\n",
              "\n",
              "  <div class=\"colab-df-container\">\n",
              "    <button class=\"colab-df-convert\" onclick=\"convertToInteractive('df-9d84b25d-5b58-4651-bb17-724e6e0a854d')\"\n",
              "            title=\"Convert this dataframe to an interactive table.\"\n",
              "            style=\"display:none;\">\n",
              "\n",
              "  <svg xmlns=\"http://www.w3.org/2000/svg\" height=\"24px\" viewBox=\"0 -960 960 960\">\n",
              "    <path d=\"M120-120v-720h720v720H120Zm60-500h600v-160H180v160Zm220 220h160v-160H400v160Zm0 220h160v-160H400v160ZM180-400h160v-160H180v160Zm440 0h160v-160H620v160ZM180-180h160v-160H180v160Zm440 0h160v-160H620v160Z\"/>\n",
              "  </svg>\n",
              "    </button>\n",
              "\n",
              "  <style>\n",
              "    .colab-df-container {\n",
              "      display:flex;\n",
              "      gap: 12px;\n",
              "    }\n",
              "\n",
              "    .colab-df-convert {\n",
              "      background-color: #E8F0FE;\n",
              "      border: none;\n",
              "      border-radius: 50%;\n",
              "      cursor: pointer;\n",
              "      display: none;\n",
              "      fill: #1967D2;\n",
              "      height: 32px;\n",
              "      padding: 0 0 0 0;\n",
              "      width: 32px;\n",
              "    }\n",
              "\n",
              "    .colab-df-convert:hover {\n",
              "      background-color: #E2EBFA;\n",
              "      box-shadow: 0px 1px 2px rgba(60, 64, 67, 0.3), 0px 1px 3px 1px rgba(60, 64, 67, 0.15);\n",
              "      fill: #174EA6;\n",
              "    }\n",
              "\n",
              "    .colab-df-buttons div {\n",
              "      margin-bottom: 4px;\n",
              "    }\n",
              "\n",
              "    [theme=dark] .colab-df-convert {\n",
              "      background-color: #3B4455;\n",
              "      fill: #D2E3FC;\n",
              "    }\n",
              "\n",
              "    [theme=dark] .colab-df-convert:hover {\n",
              "      background-color: #434B5C;\n",
              "      box-shadow: 0px 1px 3px 1px rgba(0, 0, 0, 0.15);\n",
              "      filter: drop-shadow(0px 1px 2px rgba(0, 0, 0, 0.3));\n",
              "      fill: #FFFFFF;\n",
              "    }\n",
              "  </style>\n",
              "\n",
              "    <script>\n",
              "      const buttonEl =\n",
              "        document.querySelector('#df-9d84b25d-5b58-4651-bb17-724e6e0a854d button.colab-df-convert');\n",
              "      buttonEl.style.display =\n",
              "        google.colab.kernel.accessAllowed ? 'block' : 'none';\n",
              "\n",
              "      async function convertToInteractive(key) {\n",
              "        const element = document.querySelector('#df-9d84b25d-5b58-4651-bb17-724e6e0a854d');\n",
              "        const dataTable =\n",
              "          await google.colab.kernel.invokeFunction('convertToInteractive',\n",
              "                                                    [key], {});\n",
              "        if (!dataTable) return;\n",
              "\n",
              "        const docLinkHtml = 'Like what you see? Visit the ' +\n",
              "          '<a target=\"_blank\" href=https://colab.research.google.com/notebooks/data_table.ipynb>data table notebook</a>'\n",
              "          + ' to learn more about interactive tables.';\n",
              "        element.innerHTML = '';\n",
              "        dataTable['output_type'] = 'display_data';\n",
              "        await google.colab.output.renderOutput(dataTable, element);\n",
              "        const docLink = document.createElement('div');\n",
              "        docLink.innerHTML = docLinkHtml;\n",
              "        element.appendChild(docLink);\n",
              "      }\n",
              "    </script>\n",
              "  </div>\n",
              "\n",
              "\n",
              "<div id=\"df-c26d4580-140f-4b7e-88c6-a2539c2a6bdf\">\n",
              "  <button class=\"colab-df-quickchart\" onclick=\"quickchart('df-c26d4580-140f-4b7e-88c6-a2539c2a6bdf')\"\n",
              "            title=\"Suggest charts.\"\n",
              "            style=\"display:none;\">\n",
              "\n",
              "<svg xmlns=\"http://www.w3.org/2000/svg\" height=\"24px\"viewBox=\"0 0 24 24\"\n",
              "     width=\"24px\">\n",
              "    <g>\n",
              "        <path d=\"M19 3H5c-1.1 0-2 .9-2 2v14c0 1.1.9 2 2 2h14c1.1 0 2-.9 2-2V5c0-1.1-.9-2-2-2zM9 17H7v-7h2v7zm4 0h-2V7h2v10zm4 0h-2v-4h2v4z\"/>\n",
              "    </g>\n",
              "</svg>\n",
              "  </button>\n",
              "\n",
              "<style>\n",
              "  .colab-df-quickchart {\n",
              "    background-color: #E8F0FE;\n",
              "    border: none;\n",
              "    border-radius: 50%;\n",
              "    cursor: pointer;\n",
              "    display: none;\n",
              "    fill: #1967D2;\n",
              "    height: 32px;\n",
              "    padding: 0 0 0 0;\n",
              "    width: 32px;\n",
              "  }\n",
              "\n",
              "  .colab-df-quickchart:hover {\n",
              "    background-color: #E2EBFA;\n",
              "    box-shadow: 0px 1px 2px rgba(60, 64, 67, 0.3), 0px 1px 3px 1px rgba(60, 64, 67, 0.15);\n",
              "    fill: #174EA6;\n",
              "  }\n",
              "\n",
              "  [theme=dark] .colab-df-quickchart {\n",
              "    background-color: #3B4455;\n",
              "    fill: #D2E3FC;\n",
              "  }\n",
              "\n",
              "  [theme=dark] .colab-df-quickchart:hover {\n",
              "    background-color: #434B5C;\n",
              "    box-shadow: 0px 1px 3px 1px rgba(0, 0, 0, 0.15);\n",
              "    filter: drop-shadow(0px 1px 2px rgba(0, 0, 0, 0.3));\n",
              "    fill: #FFFFFF;\n",
              "  }\n",
              "</style>\n",
              "\n",
              "  <script>\n",
              "    async function quickchart(key) {\n",
              "      const charts = await google.colab.kernel.invokeFunction(\n",
              "          'suggestCharts', [key], {});\n",
              "    }\n",
              "    (() => {\n",
              "      let quickchartButtonEl =\n",
              "        document.querySelector('#df-c26d4580-140f-4b7e-88c6-a2539c2a6bdf button');\n",
              "      quickchartButtonEl.style.display =\n",
              "        google.colab.kernel.accessAllowed ? 'block' : 'none';\n",
              "    })();\n",
              "  </script>\n",
              "</div>\n",
              "    </div>\n",
              "  </div>\n"
            ]
          },
          "metadata": {},
          "execution_count": 119
        }
      ]
    },
    {
      "cell_type": "code",
      "source": [],
      "metadata": {
        "id": "Dkm7twaTORmg"
      },
      "execution_count": null,
      "outputs": []
    }
  ]
}